{
 "cells": [
  {
   "cell_type": "markdown",
   "metadata": {},
   "source": [
    "# Programming Challenge"
   ]
  },
  {
   "cell_type": "markdown",
   "metadata": {},
   "source": [
    "# 1. Data input"
   ]
  },
  {
   "cell_type": "code",
   "execution_count": 1,
   "metadata": {},
   "outputs": [
    {
     "data": {
      "text/html": [
       "<div>\n",
       "<style scoped>\n",
       "    .dataframe tbody tr th:only-of-type {\n",
       "        vertical-align: middle;\n",
       "    }\n",
       "\n",
       "    .dataframe tbody tr th {\n",
       "        vertical-align: top;\n",
       "    }\n",
       "\n",
       "    .dataframe thead th {\n",
       "        text-align: right;\n",
       "    }\n",
       "</style>\n",
       "<table border=\"1\" class=\"dataframe\">\n",
       "  <thead>\n",
       "    <tr style=\"text-align: right;\">\n",
       "      <th></th>\n",
       "      <th>y</th>\n",
       "      <th>x1</th>\n",
       "      <th>x2</th>\n",
       "      <th>x3</th>\n",
       "      <th>x4</th>\n",
       "      <th>x5</th>\n",
       "      <th>x6</th>\n",
       "      <th>x7</th>\n",
       "      <th>x8</th>\n",
       "      <th>x9</th>\n",
       "      <th>x10</th>\n",
       "      <th>x11</th>\n",
       "      <th>x12</th>\n",
       "      <th>x13</th>\n",
       "    </tr>\n",
       "  </thead>\n",
       "  <tbody>\n",
       "    <tr>\n",
       "      <th>0</th>\n",
       "      <td>Boborg</td>\n",
       "      <td>99.88558</td>\n",
       "      <td>-0.78795</td>\n",
       "      <td>-96.54505</td>\n",
       "      <td>-0.63323</td>\n",
       "      <td>199.67072</td>\n",
       "      <td>-89.64438</td>\n",
       "      <td>Slängpolskorgris</td>\n",
       "      <td>0.10388</td>\n",
       "      <td>1.36981</td>\n",
       "      <td>11.09455</td>\n",
       "      <td>-3.49487</td>\n",
       "      <td>True</td>\n",
       "      <td>451.15538</td>\n",
       "    </tr>\n",
       "    <tr>\n",
       "      <th>1</th>\n",
       "      <td>Jorgsuto</td>\n",
       "      <td>98.62823</td>\n",
       "      <td>-0.34918</td>\n",
       "      <td>-99.47730</td>\n",
       "      <td>-0.63830</td>\n",
       "      <td>198.40234</td>\n",
       "      <td>-90.70851</td>\n",
       "      <td>Hambogris</td>\n",
       "      <td>0.62187</td>\n",
       "      <td>-2.31829</td>\n",
       "      <td>8.87321</td>\n",
       "      <td>1.26229</td>\n",
       "      <td>True</td>\n",
       "      <td>443.40251</td>\n",
       "    </tr>\n",
       "    <tr>\n",
       "      <th>2</th>\n",
       "      <td>Atsutobob</td>\n",
       "      <td>98.07893</td>\n",
       "      <td>-0.29079</td>\n",
       "      <td>-98.13996</td>\n",
       "      <td>-0.68610</td>\n",
       "      <td>197.88585</td>\n",
       "      <td>-89.32786</td>\n",
       "      <td>Hambogris</td>\n",
       "      <td>-0.63982</td>\n",
       "      <td>1.15431</td>\n",
       "      <td>11.86206</td>\n",
       "      <td>2.73511</td>\n",
       "      <td>True</td>\n",
       "      <td>441.32469</td>\n",
       "    </tr>\n",
       "    <tr>\n",
       "      <th>3</th>\n",
       "      <td>Atsutobob</td>\n",
       "      <td>99.62099</td>\n",
       "      <td>-0.42186</td>\n",
       "      <td>-99.17242</td>\n",
       "      <td>-0.59933</td>\n",
       "      <td>199.39653</td>\n",
       "      <td>-88.84929</td>\n",
       "      <td>Slängpolskorgris</td>\n",
       "      <td>-1.15077</td>\n",
       "      <td>2.16860</td>\n",
       "      <td>9.87663</td>\n",
       "      <td>2.93509</td>\n",
       "      <td>True</td>\n",
       "      <td>448.51875</td>\n",
       "    </tr>\n",
       "    <tr>\n",
       "      <th>4</th>\n",
       "      <td>Boborg</td>\n",
       "      <td>99.96833</td>\n",
       "      <td>0.04647</td>\n",
       "      <td>-105.15302</td>\n",
       "      <td>-0.64502</td>\n",
       "      <td>199.75719</td>\n",
       "      <td>-90.55073</td>\n",
       "      <td>Slängpolskorgris</td>\n",
       "      <td>-0.51528</td>\n",
       "      <td>-1.49196</td>\n",
       "      <td>11.82138</td>\n",
       "      <td>-3.21950</td>\n",
       "      <td>True</td>\n",
       "      <td>447.26516</td>\n",
       "    </tr>\n",
       "  </tbody>\n",
       "</table>\n",
       "</div>"
      ],
      "text/plain": [
       "           y        x1       x2         x3       x4         x5        x6  \\\n",
       "0     Boborg  99.88558 -0.78795  -96.54505 -0.63323  199.67072 -89.64438   \n",
       "1   Jorgsuto  98.62823 -0.34918  -99.47730 -0.63830  198.40234 -90.70851   \n",
       "2  Atsutobob  98.07893 -0.29079  -98.13996 -0.68610  197.88585 -89.32786   \n",
       "3  Atsutobob  99.62099 -0.42186  -99.17242 -0.59933  199.39653 -88.84929   \n",
       "4     Boborg  99.96833  0.04647 -105.15302 -0.64502  199.75719 -90.55073   \n",
       "\n",
       "                 x7       x8       x9       x10      x11   x12        x13  \n",
       "0  Slängpolskorgris  0.10388  1.36981  11.09455 -3.49487  True  451.15538  \n",
       "1         Hambogris  0.62187 -2.31829   8.87321  1.26229  True  443.40251  \n",
       "2         Hambogris -0.63982  1.15431  11.86206  2.73511  True  441.32469  \n",
       "3  Slängpolskorgris -1.15077  2.16860   9.87663  2.93509  True  448.51875  \n",
       "4  Slängpolskorgris -0.51528 -1.49196  11.82138 -3.21950  True  447.26516  "
      ]
     },
     "execution_count": 1,
     "metadata": {},
     "output_type": "execute_result"
    }
   ],
   "source": [
    "import pandas as pd\n",
    "\n",
    "Train_dataset = \"TrainOnMe.csv\"\n",
    "Evaluate_dataset = \"EvaluateOnMe.csv\"\n",
    "\n",
    "df_train = pd.read_csv(Train_dataset, index_col=0)\n",
    "df_train.head()"
   ]
  },
  {
   "cell_type": "markdown",
   "metadata": {},
   "source": [
    "# 2. Data cleaning"
   ]
  },
  {
   "cell_type": "markdown",
   "metadata": {},
   "source": [
    "First to examine if ther any missing values exists. If so, we need to handle them."
   ]
  },
  {
   "cell_type": "code",
   "execution_count": 2,
   "metadata": {},
   "outputs": [
    {
     "data": {
      "text/plain": [
       "y      0\n",
       "x1     0\n",
       "x2     1\n",
       "x3     1\n",
       "x4     2\n",
       "x5     1\n",
       "x6     1\n",
       "x7     2\n",
       "x8     1\n",
       "x9     1\n",
       "x10    1\n",
       "x11    1\n",
       "x12    1\n",
       "x13    1\n",
       "dtype: int64"
      ]
     },
     "execution_count": 2,
     "metadata": {},
     "output_type": "execute_result"
    }
   ],
   "source": [
    "df_train.isnull().sum()"
   ]
  },
  {
   "cell_type": "markdown",
   "metadata": {},
   "source": [
    "The missing values are seldom compared to the whole dataset, so we could try to drop them."
   ]
  },
  {
   "cell_type": "code",
   "execution_count": 3,
   "metadata": {},
   "outputs": [
    {
     "data": {
      "text/plain": [
       "(998, 14)"
      ]
     },
     "execution_count": 3,
     "metadata": {},
     "output_type": "execute_result"
    }
   ],
   "source": [
    "df_processed = df_train.dropna()\n",
    "df_processed.shape"
   ]
  },
  {
   "cell_type": "markdown",
   "metadata": {},
   "source": [
    "# 3. Data processing"
   ]
  },
  {
   "cell_type": "code",
   "execution_count": 4,
   "metadata": {},
   "outputs": [
    {
     "name": "stdout",
     "output_type": "stream",
     "text": [
      "<class 'pandas.core.frame.DataFrame'>\n",
      "Index: 998 entries, 0 to 999\n",
      "Data columns (total 14 columns):\n",
      " #   Column  Non-Null Count  Dtype  \n",
      "---  ------  --------------  -----  \n",
      " 0   y       998 non-null    object \n",
      " 1   x1      998 non-null    object \n",
      " 2   x2      998 non-null    float64\n",
      " 3   x3      998 non-null    float64\n",
      " 4   x4      998 non-null    float64\n",
      " 5   x5      998 non-null    float64\n",
      " 6   x6      998 non-null    float64\n",
      " 7   x7      998 non-null    object \n",
      " 8   x8      998 non-null    float64\n",
      " 9   x9      998 non-null    float64\n",
      " 10  x10     998 non-null    float64\n",
      " 11  x11     998 non-null    float64\n",
      " 12  x12     998 non-null    object \n",
      " 13  x13     998 non-null    float64\n",
      "dtypes: float64(10), object(4)\n",
      "memory usage: 117.0+ KB\n"
     ]
    }
   ],
   "source": [
    "df_processed.info()"
   ]
  },
  {
   "cell_type": "code",
   "execution_count": 5,
   "metadata": {},
   "outputs": [
    {
     "name": "stdout",
     "output_type": "stream",
     "text": [
      "<class 'pandas.core.frame.DataFrame'>\n",
      "Int64Index: 10000 entries, 1000 to 10999\n",
      "Data columns (total 13 columns):\n",
      " #   Column  Non-Null Count  Dtype  \n",
      "---  ------  --------------  -----  \n",
      " 0   x1      10000 non-null  float64\n",
      " 1   x2      10000 non-null  float64\n",
      " 2   x3      10000 non-null  float64\n",
      " 3   x4      10000 non-null  float64\n",
      " 4   x5      10000 non-null  float64\n",
      " 5   x6      10000 non-null  float64\n",
      " 6   x7      10000 non-null  object \n",
      " 7   x8      10000 non-null  float64\n",
      " 8   x9      10000 non-null  float64\n",
      " 9   x10     10000 non-null  float64\n",
      " 10  x11     10000 non-null  float64\n",
      " 11  x12     10000 non-null  bool   \n",
      " 12  x13     10000 non-null  float64\n",
      "dtypes: bool(1), float64(11), object(1)\n",
      "memory usage: 1.0+ MB\n"
     ]
    }
   ],
   "source": [
    "df_evaluate = pd.read_csv(Evaluate_dataset, index_col=0)\n",
    "\n",
    "df_evaluate.info()"
   ]
  },
  {
   "cell_type": "markdown",
   "metadata": {},
   "source": [
    "Comparing Trainset and Evaluate set, we could know that `x1` need to be float and `x12` need to be bool."
   ]
  },
  {
   "cell_type": "code",
   "execution_count": 6,
   "metadata": {},
   "outputs": [
    {
     "data": {
      "text/html": [
       "<div>\n",
       "<style scoped>\n",
       "    .dataframe tbody tr th:only-of-type {\n",
       "        vertical-align: middle;\n",
       "    }\n",
       "\n",
       "    .dataframe tbody tr th {\n",
       "        vertical-align: top;\n",
       "    }\n",
       "\n",
       "    .dataframe thead th {\n",
       "        text-align: right;\n",
       "    }\n",
       "</style>\n",
       "<table border=\"1\" class=\"dataframe\">\n",
       "  <thead>\n",
       "    <tr style=\"text-align: right;\">\n",
       "      <th></th>\n",
       "      <th>y</th>\n",
       "      <th>x1</th>\n",
       "      <th>x2</th>\n",
       "      <th>x3</th>\n",
       "      <th>x4</th>\n",
       "      <th>x5</th>\n",
       "      <th>x6</th>\n",
       "      <th>x7</th>\n",
       "      <th>x8</th>\n",
       "      <th>x9</th>\n",
       "      <th>x10</th>\n",
       "      <th>x11</th>\n",
       "      <th>x12</th>\n",
       "      <th>x13</th>\n",
       "    </tr>\n",
       "  </thead>\n",
       "  <tbody>\n",
       "    <tr>\n",
       "      <th>count</th>\n",
       "      <td>998</td>\n",
       "      <td>998</td>\n",
       "      <td>998.000000</td>\n",
       "      <td>998.000000</td>\n",
       "      <td>998.000000</td>\n",
       "      <td>998.000000</td>\n",
       "      <td>998.000000</td>\n",
       "      <td>998</td>\n",
       "      <td>998.000000</td>\n",
       "      <td>998.000000</td>\n",
       "      <td>998.000000</td>\n",
       "      <td>998.000000</td>\n",
       "      <td>998</td>\n",
       "      <td>998.000000</td>\n",
       "    </tr>\n",
       "    <tr>\n",
       "      <th>unique</th>\n",
       "      <td>6</td>\n",
       "      <td>996</td>\n",
       "      <td>NaN</td>\n",
       "      <td>NaN</td>\n",
       "      <td>NaN</td>\n",
       "      <td>NaN</td>\n",
       "      <td>NaN</td>\n",
       "      <td>7</td>\n",
       "      <td>NaN</td>\n",
       "      <td>NaN</td>\n",
       "      <td>NaN</td>\n",
       "      <td>NaN</td>\n",
       "      <td>2</td>\n",
       "      <td>NaN</td>\n",
       "    </tr>\n",
       "    <tr>\n",
       "      <th>top</th>\n",
       "      <td>Boborg</td>\n",
       "      <td>99.88558</td>\n",
       "      <td>NaN</td>\n",
       "      <td>NaN</td>\n",
       "      <td>NaN</td>\n",
       "      <td>NaN</td>\n",
       "      <td>NaN</td>\n",
       "      <td>Slängpolskorgris</td>\n",
       "      <td>NaN</td>\n",
       "      <td>NaN</td>\n",
       "      <td>NaN</td>\n",
       "      <td>NaN</td>\n",
       "      <td>True</td>\n",
       "      <td>NaN</td>\n",
       "    </tr>\n",
       "    <tr>\n",
       "      <th>freq</th>\n",
       "      <td>420</td>\n",
       "      <td>2</td>\n",
       "      <td>NaN</td>\n",
       "      <td>NaN</td>\n",
       "      <td>NaN</td>\n",
       "      <td>NaN</td>\n",
       "      <td>NaN</td>\n",
       "      <td>359</td>\n",
       "      <td>NaN</td>\n",
       "      <td>NaN</td>\n",
       "      <td>NaN</td>\n",
       "      <td>NaN</td>\n",
       "      <td>997</td>\n",
       "      <td>NaN</td>\n",
       "    </tr>\n",
       "    <tr>\n",
       "      <th>mean</th>\n",
       "      <td>NaN</td>\n",
       "      <td>NaN</td>\n",
       "      <td>-0.007644</td>\n",
       "      <td>-99.946945</td>\n",
       "      <td>-0.653185</td>\n",
       "      <td>199.769720</td>\n",
       "      <td>-90.445589</td>\n",
       "      <td>NaN</td>\n",
       "      <td>-0.006893</td>\n",
       "      <td>-0.034184</td>\n",
       "      <td>11.015224</td>\n",
       "      <td>-0.395676</td>\n",
       "      <td>NaN</td>\n",
       "      <td>449.905938</td>\n",
       "    </tr>\n",
       "    <tr>\n",
       "      <th>std</th>\n",
       "      <td>NaN</td>\n",
       "      <td>NaN</td>\n",
       "      <td>0.730013</td>\n",
       "      <td>3.105700</td>\n",
       "      <td>0.031579</td>\n",
       "      <td>1.003122</td>\n",
       "      <td>1.821704</td>\n",
       "      <td>NaN</td>\n",
       "      <td>1.211136</td>\n",
       "      <td>1.228444</td>\n",
       "      <td>1.351808</td>\n",
       "      <td>2.216492</td>\n",
       "      <td>NaN</td>\n",
       "      <td>4.740663</td>\n",
       "    </tr>\n",
       "    <tr>\n",
       "      <th>min</th>\n",
       "      <td>NaN</td>\n",
       "      <td>NaN</td>\n",
       "      <td>-2.457140</td>\n",
       "      <td>-111.018930</td>\n",
       "      <td>-0.714320</td>\n",
       "      <td>196.718360</td>\n",
       "      <td>-96.716280</td>\n",
       "      <td>NaN</td>\n",
       "      <td>-5.396060</td>\n",
       "      <td>-5.341300</td>\n",
       "      <td>6.138430</td>\n",
       "      <td>-6.576440</td>\n",
       "      <td>NaN</td>\n",
       "      <td>436.182140</td>\n",
       "    </tr>\n",
       "    <tr>\n",
       "      <th>25%</th>\n",
       "      <td>NaN</td>\n",
       "      <td>NaN</td>\n",
       "      <td>-0.493363</td>\n",
       "      <td>-101.953780</td>\n",
       "      <td>-0.677063</td>\n",
       "      <td>199.074557</td>\n",
       "      <td>-91.619992</td>\n",
       "      <td>NaN</td>\n",
       "      <td>-0.707320</td>\n",
       "      <td>-0.738320</td>\n",
       "      <td>10.219328</td>\n",
       "      <td>-2.022160</td>\n",
       "      <td>NaN</td>\n",
       "      <td>446.693820</td>\n",
       "    </tr>\n",
       "    <tr>\n",
       "      <th>50%</th>\n",
       "      <td>NaN</td>\n",
       "      <td>NaN</td>\n",
       "      <td>-0.004680</td>\n",
       "      <td>-99.940945</td>\n",
       "      <td>-0.651600</td>\n",
       "      <td>199.754340</td>\n",
       "      <td>-90.342965</td>\n",
       "      <td>NaN</td>\n",
       "      <td>-0.021385</td>\n",
       "      <td>-0.030925</td>\n",
       "      <td>11.055555</td>\n",
       "      <td>-0.823380</td>\n",
       "      <td>NaN</td>\n",
       "      <td>449.807960</td>\n",
       "    </tr>\n",
       "    <tr>\n",
       "      <th>75%</th>\n",
       "      <td>NaN</td>\n",
       "      <td>NaN</td>\n",
       "      <td>0.466933</td>\n",
       "      <td>-97.814628</td>\n",
       "      <td>-0.630737</td>\n",
       "      <td>200.435847</td>\n",
       "      <td>-89.232978</td>\n",
       "      <td>NaN</td>\n",
       "      <td>0.656855</td>\n",
       "      <td>0.731315</td>\n",
       "      <td>11.878250</td>\n",
       "      <td>1.298115</td>\n",
       "      <td>NaN</td>\n",
       "      <td>452.922118</td>\n",
       "    </tr>\n",
       "    <tr>\n",
       "      <th>max</th>\n",
       "      <td>NaN</td>\n",
       "      <td>NaN</td>\n",
       "      <td>2.227130</td>\n",
       "      <td>-89.903210</td>\n",
       "      <td>-0.576050</td>\n",
       "      <td>203.175010</td>\n",
       "      <td>-84.031960</td>\n",
       "      <td>NaN</td>\n",
       "      <td>5.318710</td>\n",
       "      <td>5.673230</td>\n",
       "      <td>15.176510</td>\n",
       "      <td>6.069150</td>\n",
       "      <td>NaN</td>\n",
       "      <td>468.422060</td>\n",
       "    </tr>\n",
       "  </tbody>\n",
       "</table>\n",
       "</div>"
      ],
      "text/plain": [
       "             y        x1          x2          x3          x4          x5  \\\n",
       "count      998       998  998.000000  998.000000  998.000000  998.000000   \n",
       "unique       6       996         NaN         NaN         NaN         NaN   \n",
       "top     Boborg  99.88558         NaN         NaN         NaN         NaN   \n",
       "freq       420         2         NaN         NaN         NaN         NaN   \n",
       "mean       NaN       NaN   -0.007644  -99.946945   -0.653185  199.769720   \n",
       "std        NaN       NaN    0.730013    3.105700    0.031579    1.003122   \n",
       "min        NaN       NaN   -2.457140 -111.018930   -0.714320  196.718360   \n",
       "25%        NaN       NaN   -0.493363 -101.953780   -0.677063  199.074557   \n",
       "50%        NaN       NaN   -0.004680  -99.940945   -0.651600  199.754340   \n",
       "75%        NaN       NaN    0.466933  -97.814628   -0.630737  200.435847   \n",
       "max        NaN       NaN    2.227130  -89.903210   -0.576050  203.175010   \n",
       "\n",
       "                x6                x7          x8          x9         x10  \\\n",
       "count   998.000000               998  998.000000  998.000000  998.000000   \n",
       "unique         NaN                 7         NaN         NaN         NaN   \n",
       "top            NaN  Slängpolskorgris         NaN         NaN         NaN   \n",
       "freq           NaN               359         NaN         NaN         NaN   \n",
       "mean    -90.445589               NaN   -0.006893   -0.034184   11.015224   \n",
       "std       1.821704               NaN    1.211136    1.228444    1.351808   \n",
       "min     -96.716280               NaN   -5.396060   -5.341300    6.138430   \n",
       "25%     -91.619992               NaN   -0.707320   -0.738320   10.219328   \n",
       "50%     -90.342965               NaN   -0.021385   -0.030925   11.055555   \n",
       "75%     -89.232978               NaN    0.656855    0.731315   11.878250   \n",
       "max     -84.031960               NaN    5.318710    5.673230   15.176510   \n",
       "\n",
       "               x11   x12         x13  \n",
       "count   998.000000   998  998.000000  \n",
       "unique         NaN     2         NaN  \n",
       "top            NaN  True         NaN  \n",
       "freq           NaN   997         NaN  \n",
       "mean     -0.395676   NaN  449.905938  \n",
       "std       2.216492   NaN    4.740663  \n",
       "min      -6.576440   NaN  436.182140  \n",
       "25%      -2.022160   NaN  446.693820  \n",
       "50%      -0.823380   NaN  449.807960  \n",
       "75%       1.298115   NaN  452.922118  \n",
       "max       6.069150   NaN  468.422060  "
      ]
     },
     "execution_count": 6,
     "metadata": {},
     "output_type": "execute_result"
    }
   ],
   "source": [
    "df_processed.describe(include=\"all\")"
   ]
  },
  {
   "cell_type": "code",
   "execution_count": 7,
   "metadata": {
    "scrolled": true
   },
   "outputs": [
    {
     "data": {
      "text/plain": [
       "count          998\n",
       "unique         996\n",
       "top       99.88558\n",
       "freq             2\n",
       "Name: x1, dtype: object"
      ]
     },
     "execution_count": 7,
     "metadata": {},
     "output_type": "execute_result"
    }
   ],
   "source": [
    "df_processed['x1'].describe()"
   ]
  },
  {
   "cell_type": "code",
   "execution_count": 8,
   "metadata": {},
   "outputs": [
    {
     "data": {
      "text/plain": [
       "count              998.00000\n",
       "mean       10020040180.03601\n",
       "std       316544468913.30634\n",
       "min                 96.94035\n",
       "25%                 99.29138\n",
       "50%                 99.96169\n",
       "75%                100.65103\n",
       "max     10000000000000.37109\n",
       "Name: x1, dtype: float64"
      ]
     },
     "execution_count": 8,
     "metadata": {},
     "output_type": "execute_result"
    }
   ],
   "source": [
    "is_valid_entry = pd.to_numeric(df_processed['x1'], errors=\"coerce\").notnull()\n",
    "df_processed = df_processed[is_valid_entry].copy()\n",
    "\n",
    "df_processed['x1'] = pd.to_numeric(df_processed['x1'])\n",
    "pd.options.display.float_format = '{:.5f}'.format\n",
    "df_processed['x1'].describe()\n"
   ]
  },
  {
   "cell_type": "markdown",
   "metadata": {},
   "source": [
    "We can see there are some obvious error data, so we need to delete them."
   ]
  },
  {
   "cell_type": "code",
   "execution_count": 9,
   "metadata": {},
   "outputs": [
    {
     "data": {
      "text/plain": [
       "count   992.00000\n",
       "mean     99.96618\n",
       "std       0.98160\n",
       "min      97.26435\n",
       "25%      99.28877\n",
       "50%      99.95660\n",
       "75%     100.64513\n",
       "max     102.65110\n",
       "Name: x1, dtype: float64"
      ]
     },
     "execution_count": 9,
     "metadata": {},
     "output_type": "execute_result"
    }
   ],
   "source": [
    "Q1 = df_processed['x1'].quantile(0.25)\n",
    "Q3 = df_processed['x1'].quantile(0.75)\n",
    "IQR = Q3 - Q1\n",
    "\n",
    "lower_bound = Q1 - 1.5 * IQR\n",
    "upper_bound = Q3 + 1.5 * IQR\n",
    "\n",
    "df_processed = df_processed[(df_processed['x1'] >= lower_bound) & (df_processed['x1'] <= upper_bound)]\n",
    "df_processed['x1'].describe()"
   ]
  },
  {
   "cell_type": "markdown",
   "metadata": {},
   "source": [
    "By observing standard deviation of the rest float columns, they seem fine. Next we could check the object columns."
   ]
  },
  {
   "cell_type": "code",
   "execution_count": 10,
   "metadata": {},
   "outputs": [
    {
     "data": {
      "text/plain": [
       "array(['Boborg', 'Jorgsuto', 'Atsutobob', 'Bobborg', 'Jorggsuto',\n",
       "       'Atsutoob'], dtype=object)"
      ]
     },
     "execution_count": 10,
     "metadata": {},
     "output_type": "execute_result"
    }
   ],
   "source": [
    "df_processed.y.unique()"
   ]
  },
  {
   "cell_type": "markdown",
   "metadata": {},
   "source": [
    "By comparing the name in the training and testing dataset, we could find some names just appear once and it is obvious that they are typo."
   ]
  },
  {
   "cell_type": "code",
   "execution_count": 11,
   "metadata": {},
   "outputs": [
    {
     "data": {
      "text/plain": [
       "array(['Boborg', 'Jorgsuto', 'Atsutobob'], dtype=object)"
      ]
     },
     "execution_count": 11,
     "metadata": {},
     "output_type": "execute_result"
    }
   ],
   "source": [
    "replacements = {'Bobborg': 'Boborg', 'Jorggsuto': 'Jorgsuto', 'Atsutoob': 'Atsutobob'}\n",
    "df_processed['y'] = df_processed['y'].replace(replacements)\n",
    "df_processed.y.unique()"
   ]
  },
  {
   "cell_type": "markdown",
   "metadata": {},
   "source": [
    "Then it's the same for `x7` and `x12`"
   ]
  },
  {
   "cell_type": "code",
   "execution_count": 12,
   "metadata": {},
   "outputs": [
    {
     "data": {
      "text/plain": [
       "array(['Slängpolskorgris', 'Hambogris', 'Schottisgris', 'Polkagris',\n",
       "       'Polskorgris', 'Polkagriss', 'Schottisgriss'], dtype=object)"
      ]
     },
     "execution_count": 12,
     "metadata": {},
     "output_type": "execute_result"
    }
   ],
   "source": [
    "df_processed.x7.unique()"
   ]
  },
  {
   "cell_type": "code",
   "execution_count": 13,
   "metadata": {},
   "outputs": [
    {
     "data": {
      "text/plain": [
       "array(['Slängpolskorgris', 'Hambogris', 'Schottisgris', 'Polkagris',\n",
       "       'Polskorgris'], dtype=object)"
      ]
     },
     "execution_count": 13,
     "metadata": {},
     "output_type": "execute_result"
    }
   ],
   "source": [
    "replacements = {'Polkagriss': 'Polkagris', 'Schottisgriss': 'Schottisgris'}\n",
    "df_processed['x7'] = df_processed['x7'].replace(replacements)\n",
    "df_processed.x7.unique()"
   ]
  },
  {
   "cell_type": "code",
   "execution_count": 14,
   "metadata": {},
   "outputs": [
    {
     "data": {
      "text/plain": [
       "array(['True', 'Ture'], dtype=object)"
      ]
     },
     "execution_count": 14,
     "metadata": {},
     "output_type": "execute_result"
    }
   ],
   "source": [
    "df_processed.x12.unique()"
   ]
  },
  {
   "cell_type": "code",
   "execution_count": 15,
   "metadata": {},
   "outputs": [
    {
     "data": {
      "text/plain": [
       "array(['True'], dtype=object)"
      ]
     },
     "execution_count": 15,
     "metadata": {},
     "output_type": "execute_result"
    }
   ],
   "source": [
    "df_processed['x12'] = df_processed['x12'].replace(\"Ture\", \"True\")\n",
    "df_processed.x12.unique()"
   ]
  },
  {
   "cell_type": "markdown",
   "metadata": {},
   "source": [
    "As we said before,  we need to convert `x12` into bool type. "
   ]
  },
  {
   "cell_type": "code",
   "execution_count": 16,
   "metadata": {},
   "outputs": [],
   "source": [
    "df_processed['x12'] = df_processed['x12'].apply(lambda x: x == \"True\")"
   ]
  },
  {
   "cell_type": "code",
   "execution_count": 17,
   "metadata": {},
   "outputs": [
    {
     "name": "stdout",
     "output_type": "stream",
     "text": [
      "<class 'pandas.core.frame.DataFrame'>\n",
      "Index: 992 entries, 0 to 999\n",
      "Data columns (total 14 columns):\n",
      " #   Column  Non-Null Count  Dtype  \n",
      "---  ------  --------------  -----  \n",
      " 0   y       992 non-null    object \n",
      " 1   x1      992 non-null    float64\n",
      " 2   x2      992 non-null    float64\n",
      " 3   x3      992 non-null    float64\n",
      " 4   x4      992 non-null    float64\n",
      " 5   x5      992 non-null    float64\n",
      " 6   x6      992 non-null    float64\n",
      " 7   x7      992 non-null    object \n",
      " 8   x8      992 non-null    float64\n",
      " 9   x9      992 non-null    float64\n",
      " 10  x10     992 non-null    float64\n",
      " 11  x11     992 non-null    float64\n",
      " 12  x12     992 non-null    bool   \n",
      " 13  x13     992 non-null    float64\n",
      "dtypes: bool(1), float64(11), object(2)\n",
      "memory usage: 109.5+ KB\n"
     ]
    }
   ],
   "source": [
    "df_processed.info()"
   ]
  },
  {
   "cell_type": "code",
   "execution_count": 18,
   "metadata": {},
   "outputs": [
    {
     "data": {
      "text/html": [
       "<div>\n",
       "<style scoped>\n",
       "    .dataframe tbody tr th:only-of-type {\n",
       "        vertical-align: middle;\n",
       "    }\n",
       "\n",
       "    .dataframe tbody tr th {\n",
       "        vertical-align: top;\n",
       "    }\n",
       "\n",
       "    .dataframe thead th {\n",
       "        text-align: right;\n",
       "    }\n",
       "</style>\n",
       "<table border=\"1\" class=\"dataframe\">\n",
       "  <thead>\n",
       "    <tr style=\"text-align: right;\">\n",
       "      <th></th>\n",
       "      <th>y</th>\n",
       "      <th>x1</th>\n",
       "      <th>x2</th>\n",
       "      <th>x3</th>\n",
       "      <th>x4</th>\n",
       "      <th>x5</th>\n",
       "      <th>x6</th>\n",
       "      <th>x7</th>\n",
       "      <th>x8</th>\n",
       "      <th>x9</th>\n",
       "      <th>x10</th>\n",
       "      <th>x11</th>\n",
       "      <th>x12</th>\n",
       "      <th>x13</th>\n",
       "    </tr>\n",
       "  </thead>\n",
       "  <tbody>\n",
       "    <tr>\n",
       "      <th>count</th>\n",
       "      <td>992</td>\n",
       "      <td>992.00000</td>\n",
       "      <td>992.00000</td>\n",
       "      <td>992.00000</td>\n",
       "      <td>992.00000</td>\n",
       "      <td>992.00000</td>\n",
       "      <td>992.00000</td>\n",
       "      <td>992</td>\n",
       "      <td>992.00000</td>\n",
       "      <td>992.00000</td>\n",
       "      <td>992.00000</td>\n",
       "      <td>992.00000</td>\n",
       "      <td>992</td>\n",
       "      <td>992.00000</td>\n",
       "    </tr>\n",
       "    <tr>\n",
       "      <th>unique</th>\n",
       "      <td>3</td>\n",
       "      <td>NaN</td>\n",
       "      <td>NaN</td>\n",
       "      <td>NaN</td>\n",
       "      <td>NaN</td>\n",
       "      <td>NaN</td>\n",
       "      <td>NaN</td>\n",
       "      <td>5</td>\n",
       "      <td>NaN</td>\n",
       "      <td>NaN</td>\n",
       "      <td>NaN</td>\n",
       "      <td>NaN</td>\n",
       "      <td>1</td>\n",
       "      <td>NaN</td>\n",
       "    </tr>\n",
       "    <tr>\n",
       "      <th>top</th>\n",
       "      <td>Boborg</td>\n",
       "      <td>NaN</td>\n",
       "      <td>NaN</td>\n",
       "      <td>NaN</td>\n",
       "      <td>NaN</td>\n",
       "      <td>NaN</td>\n",
       "      <td>NaN</td>\n",
       "      <td>Slängpolskorgris</td>\n",
       "      <td>NaN</td>\n",
       "      <td>NaN</td>\n",
       "      <td>NaN</td>\n",
       "      <td>NaN</td>\n",
       "      <td>True</td>\n",
       "      <td>NaN</td>\n",
       "    </tr>\n",
       "    <tr>\n",
       "      <th>freq</th>\n",
       "      <td>419</td>\n",
       "      <td>NaN</td>\n",
       "      <td>NaN</td>\n",
       "      <td>NaN</td>\n",
       "      <td>NaN</td>\n",
       "      <td>NaN</td>\n",
       "      <td>NaN</td>\n",
       "      <td>359</td>\n",
       "      <td>NaN</td>\n",
       "      <td>NaN</td>\n",
       "      <td>NaN</td>\n",
       "      <td>NaN</td>\n",
       "      <td>992</td>\n",
       "      <td>NaN</td>\n",
       "    </tr>\n",
       "    <tr>\n",
       "      <th>mean</th>\n",
       "      <td>NaN</td>\n",
       "      <td>99.96618</td>\n",
       "      <td>-0.01251</td>\n",
       "      <td>-99.94269</td>\n",
       "      <td>-0.65319</td>\n",
       "      <td>199.76002</td>\n",
       "      <td>-90.44274</td>\n",
       "      <td>NaN</td>\n",
       "      <td>-0.00654</td>\n",
       "      <td>-0.03390</td>\n",
       "      <td>11.00804</td>\n",
       "      <td>-0.39990</td>\n",
       "      <td>NaN</td>\n",
       "      <td>449.85955</td>\n",
       "    </tr>\n",
       "    <tr>\n",
       "      <th>std</th>\n",
       "      <td>NaN</td>\n",
       "      <td>0.98160</td>\n",
       "      <td>0.72803</td>\n",
       "      <td>3.10306</td>\n",
       "      <td>0.03154</td>\n",
       "      <td>0.98199</td>\n",
       "      <td>1.82205</td>\n",
       "      <td>NaN</td>\n",
       "      <td>1.21357</td>\n",
       "      <td>1.22882</td>\n",
       "      <td>1.35180</td>\n",
       "      <td>2.20961</td>\n",
       "      <td>NaN</td>\n",
       "      <td>4.64228</td>\n",
       "    </tr>\n",
       "    <tr>\n",
       "      <th>min</th>\n",
       "      <td>NaN</td>\n",
       "      <td>97.26435</td>\n",
       "      <td>-2.45714</td>\n",
       "      <td>-111.01893</td>\n",
       "      <td>-0.71432</td>\n",
       "      <td>197.07890</td>\n",
       "      <td>-96.71628</td>\n",
       "      <td>NaN</td>\n",
       "      <td>-5.39606</td>\n",
       "      <td>-5.34130</td>\n",
       "      <td>6.13843</td>\n",
       "      <td>-6.57644</td>\n",
       "      <td>NaN</td>\n",
       "      <td>436.81114</td>\n",
       "    </tr>\n",
       "    <tr>\n",
       "      <th>25%</th>\n",
       "      <td>NaN</td>\n",
       "      <td>99.28877</td>\n",
       "      <td>-0.49499</td>\n",
       "      <td>-101.95018</td>\n",
       "      <td>-0.67712</td>\n",
       "      <td>199.07405</td>\n",
       "      <td>-91.61394</td>\n",
       "      <td>NaN</td>\n",
       "      <td>-0.70798</td>\n",
       "      <td>-0.73666</td>\n",
       "      <td>10.21109</td>\n",
       "      <td>-2.01634</td>\n",
       "      <td>NaN</td>\n",
       "      <td>446.68507</td>\n",
       "    </tr>\n",
       "    <tr>\n",
       "      <th>50%</th>\n",
       "      <td>NaN</td>\n",
       "      <td>99.95660</td>\n",
       "      <td>-0.00832</td>\n",
       "      <td>-99.94094</td>\n",
       "      <td>-0.65160</td>\n",
       "      <td>199.75020</td>\n",
       "      <td>-90.33850</td>\n",
       "      <td>NaN</td>\n",
       "      <td>-0.02773</td>\n",
       "      <td>-0.02944</td>\n",
       "      <td>11.04175</td>\n",
       "      <td>-0.82600</td>\n",
       "      <td>NaN</td>\n",
       "      <td>449.78089</td>\n",
       "    </tr>\n",
       "    <tr>\n",
       "      <th>75%</th>\n",
       "      <td>NaN</td>\n",
       "      <td>100.64513</td>\n",
       "      <td>0.46279</td>\n",
       "      <td>-97.81536</td>\n",
       "      <td>-0.63068</td>\n",
       "      <td>200.43315</td>\n",
       "      <td>-89.22758</td>\n",
       "      <td>NaN</td>\n",
       "      <td>0.66169</td>\n",
       "      <td>0.72849</td>\n",
       "      <td>11.87261</td>\n",
       "      <td>1.28137</td>\n",
       "      <td>NaN</td>\n",
       "      <td>452.90313</td>\n",
       "    </tr>\n",
       "    <tr>\n",
       "      <th>max</th>\n",
       "      <td>NaN</td>\n",
       "      <td>102.65110</td>\n",
       "      <td>2.22713</td>\n",
       "      <td>-89.90321</td>\n",
       "      <td>-0.57605</td>\n",
       "      <td>202.45547</td>\n",
       "      <td>-84.03196</td>\n",
       "      <td>NaN</td>\n",
       "      <td>5.31871</td>\n",
       "      <td>5.67323</td>\n",
       "      <td>15.17651</td>\n",
       "      <td>6.06915</td>\n",
       "      <td>NaN</td>\n",
       "      <td>462.23158</td>\n",
       "    </tr>\n",
       "  </tbody>\n",
       "</table>\n",
       "</div>"
      ],
      "text/plain": [
       "             y        x1        x2         x3        x4        x5        x6  \\\n",
       "count      992 992.00000 992.00000  992.00000 992.00000 992.00000 992.00000   \n",
       "unique       3       NaN       NaN        NaN       NaN       NaN       NaN   \n",
       "top     Boborg       NaN       NaN        NaN       NaN       NaN       NaN   \n",
       "freq       419       NaN       NaN        NaN       NaN       NaN       NaN   \n",
       "mean       NaN  99.96618  -0.01251  -99.94269  -0.65319 199.76002 -90.44274   \n",
       "std        NaN   0.98160   0.72803    3.10306   0.03154   0.98199   1.82205   \n",
       "min        NaN  97.26435  -2.45714 -111.01893  -0.71432 197.07890 -96.71628   \n",
       "25%        NaN  99.28877  -0.49499 -101.95018  -0.67712 199.07405 -91.61394   \n",
       "50%        NaN  99.95660  -0.00832  -99.94094  -0.65160 199.75020 -90.33850   \n",
       "75%        NaN 100.64513   0.46279  -97.81536  -0.63068 200.43315 -89.22758   \n",
       "max        NaN 102.65110   2.22713  -89.90321  -0.57605 202.45547 -84.03196   \n",
       "\n",
       "                      x7        x8        x9       x10       x11   x12  \\\n",
       "count                992 992.00000 992.00000 992.00000 992.00000   992   \n",
       "unique                 5       NaN       NaN       NaN       NaN     1   \n",
       "top     Slängpolskorgris       NaN       NaN       NaN       NaN  True   \n",
       "freq                 359       NaN       NaN       NaN       NaN   992   \n",
       "mean                 NaN  -0.00654  -0.03390  11.00804  -0.39990   NaN   \n",
       "std                  NaN   1.21357   1.22882   1.35180   2.20961   NaN   \n",
       "min                  NaN  -5.39606  -5.34130   6.13843  -6.57644   NaN   \n",
       "25%                  NaN  -0.70798  -0.73666  10.21109  -2.01634   NaN   \n",
       "50%                  NaN  -0.02773  -0.02944  11.04175  -0.82600   NaN   \n",
       "75%                  NaN   0.66169   0.72849  11.87261   1.28137   NaN   \n",
       "max                  NaN   5.31871   5.67323  15.17651   6.06915   NaN   \n",
       "\n",
       "             x13  \n",
       "count  992.00000  \n",
       "unique       NaN  \n",
       "top          NaN  \n",
       "freq         NaN  \n",
       "mean   449.85955  \n",
       "std      4.64228  \n",
       "min    436.81114  \n",
       "25%    446.68507  \n",
       "50%    449.78089  \n",
       "75%    452.90313  \n",
       "max    462.23158  "
      ]
     },
     "execution_count": 18,
     "metadata": {},
     "output_type": "execute_result"
    }
   ],
   "source": [
    "df_processed.describe(include=\"all\")"
   ]
  },
  {
   "cell_type": "markdown",
   "metadata": {},
   "source": [
    "# 4. Data converting and modeling"
   ]
  },
  {
   "cell_type": "markdown",
   "metadata": {},
   "source": [
    "The training dataset is so small, so we don't want to divide it into trainset and testset. Instead, we apply cross validation method."
   ]
  },
  {
   "cell_type": "code",
   "execution_count": 19,
   "metadata": {},
   "outputs": [
    {
     "name": "stdout",
     "output_type": "stream",
     "text": [
      "Decision tree scored 0.7388787878787879 during cross validation\n",
      "Random forest scored 0.8477070707070707 during cross validation\n",
      "Gradient Boosting scored 0.8396868686868688 during cross validation\n",
      "Extremely random forest scored 0.8517878787878788 during cross validation\n",
      "Adaboost scored 0.754969696969697 during cross validation\n",
      "Bagging scored 0.7973333333333333 during cross validation\n",
      "MLP scored 0.7327575757575757 during cross validation\n",
      "SVM (rbf) scored 0.7590505050505051 during cross validation\n",
      "SVM (linear) scored 0.7106464646464646 during cross validation\n",
      "SVM (polynomial) scored 0.7065858585858587 during cross validation\n",
      "Ridge Classifier scored 0.6814141414141415 during cross validation\n",
      "\n",
      "Top 3 models:\n",
      "1. Extremely random forest with a score of 0.8517878787878788\n",
      "2. Random forest with a score of 0.8477070707070707\n",
      "3. Gradient Boosting with a score of 0.8396868686868688\n"
     ]
    }
   ],
   "source": [
    "import numpy as np\n",
    "from sklearn.compose import ColumnTransformer\n",
    "from sklearn.preprocessing import StandardScaler\n",
    "from sklearn.decomposition import PCA\n",
    "from sklearn.preprocessing import OrdinalEncoder\n",
    "from sklearn.pipeline import Pipeline\n",
    "from sklearn.model_selection import cross_val_score, StratifiedKFold\n",
    "from sklearn.tree import DecisionTreeClassifier\n",
    "from sklearn.ensemble import RandomForestClassifier, ExtraTreesClassifier, AdaBoostClassifier, BaggingClassifier, \\\n",
    "GradientBoostingClassifier\n",
    "from sklearn.svm import SVC\n",
    "from sklearn.neural_network import MLPClassifier\n",
    "from sklearn.linear_model import RidgeClassifierCV\n",
    "\n",
    "RANDOM_STATE = 6\n",
    "\n",
    "X = df_processed.drop('y', axis=1)\n",
    "y = df_processed.y\n",
    "\n",
    "numerical_features = X.select_dtypes(include=['float64']).columns\n",
    "categorical_features = X.select_dtypes(include=['object', 'bool']).columns\n",
    "\n",
    "numerical_transformer = Pipeline(steps=[\n",
    "    ('scaler', StandardScaler()),  \n",
    "    ('pca', PCA(n_components=11)),  \n",
    "])\n",
    "\n",
    "categorical_transformer = Pipeline(steps=[\n",
    "    ('encoder', OrdinalEncoder()),  \n",
    "])\n",
    "\n",
    "preprocessor = ColumnTransformer(transformers=[\n",
    "    ('num', numerical_transformer, numerical_features),\n",
    "    ('cat', categorical_transformer, categorical_features)\n",
    "])\n",
    "\n",
    "classifiers = {\n",
    "    \"Decision tree\": DecisionTreeClassifier(),\n",
    "    \"Random forest\": RandomForestClassifier(random_state=RANDOM_STATE),\n",
    "    \"Gradient Boosting\": GradientBoostingClassifier(random_state=RANDOM_STATE),\n",
    "    \"Extremely random forest\": ExtraTreesClassifier(random_state=RANDOM_STATE),\n",
    "    \"Adaboost\": AdaBoostClassifier(),\n",
    "    \"Bagging\": BaggingClassifier(random_state=RANDOM_STATE),\n",
    "    \"MLP\": MLPClassifier(max_iter=5000, hidden_layer_sizes=(20, 20)),\n",
    "    \"SVM (rbf)\": SVC(),\n",
    "    \"SVM (linear)\": SVC(kernel=\"linear\"),\n",
    "    \"SVM (polynomial)\": SVC(kernel=\"poly\"),\n",
    "    \"Ridge Classifier\": RidgeClassifierCV()\n",
    "}\n",
    "\n",
    "best_classifiers = []\n",
    "top_n = 3  \n",
    "top_scores = [0] * top_n  \n",
    "clf_names = [\"\"] * top_n  \n",
    "\n",
    "cv = StratifiedKFold(shuffle=True, random_state=RANDOM_STATE, n_splits=10)\n",
    "\n",
    "for clf_name, clf in classifiers.items():\n",
    "    pipeline = Pipeline(steps=[('preprocessor', preprocessor), ('classifier', clf)])\n",
    "    \n",
    "    cv_scores = cross_val_score(pipeline, X, y, cv=cv)  \n",
    "    cv_score = np.average(cv_scores)\n",
    "\n",
    "    print(f\"{clf_name} scored {cv_score} during cross validation\")\n",
    "    \n",
    "    for i in range(top_n):\n",
    "        if cv_score > top_scores[i]:\n",
    "            top_scores.insert(i, cv_score)\n",
    "            top_scores.pop()\n",
    "            clf_names.insert(i, clf_name)\n",
    "            clf_names.pop()\n",
    "            break\n",
    "\n",
    "print(\"\\nTop 3 models:\")\n",
    "for i in range(top_n):\n",
    "    print(f\"{i + 1}. {clf_names[i]} with a score of {top_scores[i]}\")\n"
   ]
  },
  {
   "cell_type": "markdown",
   "metadata": {},
   "source": [
    "Now, we can try some parameter tuning to improve the performances of the three best models and compare to get our final model."
   ]
  },
  {
   "cell_type": "code",
   "execution_count": 20,
   "metadata": {},
   "outputs": [
    {
     "name": "stdout",
     "output_type": "stream",
     "text": [
      "Fitting 10 folds for each of 80 candidates, totalling 800 fits\n",
      "Best Hyperparameters: {'forest_extra__max_depth': 20, 'forest_extra__min_samples_leaf': 1, 'forest_extra__n_estimators': 300}\n",
      "Best Score: 0.8648888888888889\n"
     ]
    }
   ],
   "source": [
    "from sklearn.model_selection import GridSearchCV, RandomizedSearchCV\n",
    "pipeline = Pipeline(steps=[('preprocessor', preprocessor),\n",
    "                           ('forest_extra', ExtraTreesClassifier(random_state=RANDOM_STATE))])\n",
    "params = {\n",
    "    \"forest_extra__n_estimators\" : [50, 100, 200, 300],\n",
    "    \"forest_extra__max_depth\" : [1, 5, 10, 20, None],\n",
    "    \"forest_extra__min_samples_leaf\" : [1, 2, 3, 5]\n",
    "}\n",
    "\n",
    "extra_forest_grid = GridSearchCV(pipeline, param_grid=params, verbose=1, n_jobs=-1, cv=cv)\n",
    "extra_forest_grid.fit(X, y)\n",
    "\n",
    "\n",
    "best_params = extra_forest_grid.best_params_\n",
    "best_score = extra_forest_grid.best_score_\n",
    "\n",
    "print(\"Best Hyperparameters:\", best_params)\n",
    "print(\"Best Score:\", best_score)\n"
   ]
  },
  {
   "cell_type": "code",
   "execution_count": 33,
   "metadata": {
    "scrolled": true
   },
   "outputs": [
    {
     "name": "stdout",
     "output_type": "stream",
     "text": [
      "Fitting 10 folds for each of 120 candidates, totalling 1200 fits\n",
      "Best Hyperparameters: {'forest__n_estimators': 200, 'forest__min_samples_split': 2, 'forest__min_samples_leaf': 1, 'forest__max_features': 'auto', 'forest__max_depth': None, 'forest__bootstrap': False}\n",
      "Best Score: 0.8658484848484849\n"
     ]
    }
   ],
   "source": [
    "pipeline = Pipeline(steps=[('preprocessor', preprocessor),\n",
    "                           ('forest', RandomForestClassifier(random_state=RANDOM_STATE))])\n",
    "\n",
    "params = { \n",
    " 'forest__bootstrap': [True, False],\n",
    " 'forest__max_depth': [10, 20, 30, 40, 50, 60, 70, 80, 90, 100, None],\n",
    " 'forest__max_features': ['auto', 'sqrt'],\n",
    " 'forest__min_samples_leaf': [1, 2, 4],\n",
    " 'forest__min_samples_split': [2, 5, 10],\n",
    " 'forest__n_estimators': [200, 400, 600, 800, 1000, 1200, 1400, 1600, 1800, 2000]\n",
    "}\n",
    "\n",
    "forest_search = RandomizedSearchCV(pipeline, param_distributions=params, n_iter=120, verbose=1, n_jobs=-1, cv=cv)\n",
    "forest_search.fit(X, y)\n",
    "\n",
    "best_params = forest_search.best_params_\n",
    "best_score = forest_search.best_score_\n",
    "\n",
    "print(\"Best Hyperparameters:\", best_params)\n",
    "print(\"Best Score:\", best_score)\n"
   ]
  },
  {
   "cell_type": "code",
   "execution_count": 22,
   "metadata": {},
   "outputs": [
    {
     "name": "stdout",
     "output_type": "stream",
     "text": [
      "Fitting 10 folds for each of 64 candidates, totalling 640 fits\n",
      "Best Hyperparameters: {'gb__learning_rate': 0.1, 'gb__max_depth': 5, 'gb__n_estimators': 300}\n",
      "Best Score: 0.8507474747474746\n"
     ]
    }
   ],
   "source": [
    "pipeline = Pipeline(steps=[('preprocessor', preprocessor),\n",
    "                           ('gb', GradientBoostingClassifier(random_state=RANDOM_STATE))])\n",
    "params = {\n",
    "    \"gb__n_estimators\" : [50, 100, 200, 300],\n",
    "    \"gb__max_depth\" : [5, 10, 20, None],\n",
    "    \"gb__learning_rate\" : [0.1, 0.2, 0.01, 0.05],\n",
    "}\n",
    "\n",
    "gb_grid = GridSearchCV(pipeline, param_grid=params, verbose=1, n_jobs=-1, cv=cv)\n",
    "gb_grid.fit(X, y)\n",
    "\n",
    "best_params = gb_grid.best_params_\n",
    "best_score = gb_grid.best_score_\n",
    "\n",
    "print(\"Best Hyperparameters:\", best_params)\n",
    "print(\"Best Score:\", best_score)\n"
   ]
  },
  {
   "cell_type": "markdown",
   "metadata": {},
   "source": [
    "It seems that the random forest performs best."
   ]
  },
  {
   "cell_type": "markdown",
   "metadata": {},
   "source": [
    "# 5. Evaluation"
   ]
  },
  {
   "cell_type": "markdown",
   "metadata": {},
   "source": [
    "Use the best model to evaluate on the evaluate set."
   ]
  },
  {
   "cell_type": "code",
   "execution_count": 34,
   "metadata": {},
   "outputs": [],
   "source": [
    "estimator = forest_search.best_estimator_"
   ]
  },
  {
   "cell_type": "code",
   "execution_count": 36,
   "metadata": {},
   "outputs": [
    {
     "data": {
      "text/plain": [
       "array(['Boborg', 'Atsutobob', 'Jorgsuto', ..., 'Boborg', 'Atsutobob',\n",
       "       'Boborg'], dtype=object)"
      ]
     },
     "execution_count": 36,
     "metadata": {},
     "output_type": "execute_result"
    }
   ],
   "source": [
    "predictions = estimator.predict(df_evaluate)\n",
    "\n",
    "predictions"
   ]
  },
  {
   "cell_type": "code",
   "execution_count": null,
   "metadata": {},
   "outputs": [],
   "source": []
  },
  {
   "cell_type": "code",
   "execution_count": 25,
   "metadata": {},
   "outputs": [],
   "source": [
    "#estimator = extra_forest_grid.best_estimator_"
   ]
  },
  {
   "cell_type": "code",
   "execution_count": 26,
   "metadata": {},
   "outputs": [],
   "source": [
    "#predictions = estimator.predict(df_evaluate)\n",
    "\n",
    "#predictions"
   ]
  },
  {
   "cell_type": "code",
   "execution_count": null,
   "metadata": {},
   "outputs": [],
   "source": []
  },
  {
   "cell_type": "code",
   "execution_count": 37,
   "metadata": {},
   "outputs": [],
   "source": [
    "from os import linesep\n",
    "\n",
    "Output = 'labels.txt'\n",
    "\n",
    "with open(Output, 'w', encoding='utf-8') as f:\n",
    "    for prediction in predictions:\n",
    "        f.write(prediction + '\\n')\n"
   ]
  }
 ],
 "metadata": {
  "kernelspec": {
   "display_name": "Python 3 (ipykernel)",
   "language": "python",
   "name": "python3"
  },
  "language_info": {
   "codemirror_mode": {
    "name": "ipython",
    "version": 3
   },
   "file_extension": ".py",
   "mimetype": "text/x-python",
   "name": "python",
   "nbconvert_exporter": "python",
   "pygments_lexer": "ipython3",
   "version": "3.9.13"
  }
 },
 "nbformat": 4,
 "nbformat_minor": 4
}
