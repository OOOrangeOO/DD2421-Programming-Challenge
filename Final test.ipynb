{
 "cells": [
  {
   "cell_type": "code",
   "execution_count": 4,
   "id": "4d9e2be4",
   "metadata": {},
   "outputs": [
    {
     "name": "stdout",
     "output_type": "stream",
     "text": [
      "Accuracy: 83.89%\n"
     ]
    }
   ],
   "source": [
    "import pandas as pd\n",
    "from sklearn.metrics import accuracy_score\n",
    "\n",
    "# Load the CSV file into a pandas DataFrame without a header\n",
    "csv_file_path = 'EvaluationGT.csv'\n",
    "df = pd.read_csv(csv_file_path, header=None)\n",
    "\n",
    "# Assuming your CSV file has only one column containing the actual category data\n",
    "actual_categories = df.iloc[:, 0]\n",
    "\n",
    "# Load the TXT file with your prediction data\n",
    "txt_file_path = 'labels.txt'\n",
    "with open(txt_file_path, 'r') as file:\n",
    "    predicted_categories = file.read().splitlines()\n",
    "\n",
    "# Ensure that the lengths of actual and predicted categories are the same\n",
    "if len(actual_categories) != len(predicted_categories):\n",
    "    raise ValueError(\"The number of actual and predicted categories should be the same.\")\n",
    "\n",
    "# Calculate accuracy\n",
    "accuracy = accuracy_score(actual_categories, predicted_categories)\n",
    "\n",
    "print(f\"Accuracy: {accuracy * 100:.2f}%\")\n"
   ]
  }
 ],
 "metadata": {
  "kernelspec": {
   "display_name": "Python 3 (ipykernel)",
   "language": "python",
   "name": "python3"
  },
  "language_info": {
   "codemirror_mode": {
    "name": "ipython",
    "version": 3
   },
   "file_extension": ".py",
   "mimetype": "text/x-python",
   "name": "python",
   "nbconvert_exporter": "python",
   "pygments_lexer": "ipython3",
   "version": "3.9.13"
  }
 },
 "nbformat": 4,
 "nbformat_minor": 5
}
